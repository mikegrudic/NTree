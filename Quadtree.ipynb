{
 "cells": [
  {
   "cell_type": "code",
   "execution_count": 1,
   "metadata": {},
   "outputs": [
    {
     "name": "stdout",
     "output_type": "stream",
     "text": [
      "Using matplotlib backend: Qt5Agg\n",
      "Populating the interactive namespace from numpy and matplotlib\n"
     ]
    }
   ],
   "source": [
    "%pylab\n",
    "from numba import jit, njit"
   ]
  },
  {
   "cell_type": "code",
   "execution_count": 6,
   "metadata": {
    "collapsed": true
   },
   "outputs": [],
   "source": [
    "class TreeNode:\n",
    "    def __init__(self, center, size, dim=3):\n",
    "        self.COM = None\n",
    "        self.center = center\n",
    "        self.size = size\n",
    "        self.mass = None\n",
    "        self.IsLeaf = False\n",
    "        self.children = (1 << dim) * [None,]\n",
    "        self.dim = dim\n",
    "        \n",
    "    def InsertPoint(self, x, m):\n",
    "        if self.COM is None:\n",
    "            self.COM  = x\n",
    "            self.mass = m\n",
    "            self.IsLeaf = True\n",
    "            return\n",
    "        #otherwise we gotta split this up\n",
    "        if self.IsLeaf:\n",
    "            self.SpawnChildWithPoint(self.COM, self.mass)\n",
    "            self.IsLeaf = False    \n",
    "        self.SpawnChildWithPoint(x, m)\n",
    "    \n",
    "    def SpawnChildWithPoint(self, x, m):\n",
    "        signs = (x > self.center)\n",
    "        sector = sum(signs[i] * (1 << i) for i in range(self.dim))\n",
    "        if not self.children[sector]: \n",
    "            self.children[sector] = TreeNode(self.center + 0.5*(signs-0.5) * self.size, self.size/2, dim=self.dim)\n",
    "        self.children[sector].InsertPoint(x, m)\n",
    "        \n",
    "    def GetMoments(self):\n",
    "        if not self.IsLeaf: #: return self.mass, self.COM\n",
    "            self.mass = 0.\n",
    "            self.COM = np.zeros(self.dim)\n",
    "            for c in self.children:\n",
    "                if c is None: continue\n",
    "                mc, xc = c.GetMoments()\n",
    "                self.mass += mc\n",
    "                self.COM += mc*xc\n",
    "            self.COM /= self.mass\n",
    "        return self.mass, self.COM\n",
    "\n",
    "    \n",
    "def ForceWalk(x, g, node, thetamax=0.7, eps=0.0):\n",
    "    dx = node.COM - x\n",
    "    #print(dx)\n",
    "    r = np.sqrt((dx**2).sum())\n",
    "    if r>0:\n",
    "        if node.IsLeaf or node.size/r < thetamax:\n",
    "            g += node.mass * dx / (r**2 + eps**2)**1.5\n",
    "        else:\n",
    "            for c in node.children:\n",
    "                if c: ForceWalk(x, g, c, thetamax, eps)\n",
    "\n",
    "def Accel(points, tree, thetamax=0.7, G=1.0, eps=0.0):\n",
    "    accels = np.zeros_like(points)\n",
    "    for i in range(points.shape[0]):\n",
    "        ForceWalk(points[i], accels[i], tree, thetamax,eps)\n",
    "    return G*accels\n",
    "\n",
    "@njit\n",
    "def BruteForceAccel(x,m,eps=0., G=1.):\n",
    "    accel = zeros_like(x)\n",
    "    for i in range(x.shape[0]):\n",
    "        for j in range(i+1,x.shape[0]):\n",
    "            dx = x[j,0]-x[i,0]\n",
    "            dy = x[j,1]-x[i,1]\n",
    "            dz = x[j,2]-x[i,2]\n",
    "            r = sqrt(dx*dx + dy*dy + dz*dz + eps*eps)\n",
    "            mr3inv = m[i]/(r*r*r)\n",
    "            accel[j,0] -= mr3inv*dx\n",
    "            accel[j,1] -= mr3inv*dy\n",
    "            accel[j,2] -= mr3inv*dz\n",
    "\n",
    "            mr3inv = m[j]/(r*r*r)\n",
    "            accel[i,0] += mr3inv*dx\n",
    "            accel[i,1] += mr3inv*dy\n",
    "            accel[i,2] += mr3inv*dz\n",
    "    return G*accel\n",
    "\n",
    "@jit\n",
    "def BruteForcePotential(x,m,G=1., eps=0.):\n",
    "    potential = np.zeros_like(m)\n",
    "    for i in range(x.shape[0]):\n",
    "        for j in range(i+1,x.shape[0]):\n",
    "            dx = x[i,0]-x[j,0]\n",
    "            dy = x[i,1]-x[j,1]\n",
    "            dz = x[i,2]-x[j,2]\n",
    "            r = np.sqrt(dx*dx + dy*dy + dz*dz + eps*eps)\n",
    "            rinv = 1/r\n",
    "            potential[j] -= m[i]*rinv\n",
    "            potential[i] -= m[j]*rinv\n",
    "    return G*potential\n",
    "\n",
    "def ConstructTree(points, masses):\n",
    "    mins = np.min(points,axis=0)\n",
    "    maxes = np.max(points,axis=0)\n",
    "    center = (maxes+mins)/2\n",
    "    size = np.max(maxes-mins)\n",
    "    root = TreeNode(center, size, dim=points.shape[1])\n",
    "    for i in range(len(points)):\n",
    "        root.InsertPoint(points[i], masses[i])\n",
    "    root.GetMoments()\n",
    "    return root\n"
   ]
  },
  {
   "cell_type": "code",
   "execution_count": 14,
   "metadata": {
    "collapsed": true
   },
   "outputs": [],
   "source": [
    "x = 2*(np.random.rand(200,3) - 0.5)\n",
    "x = x[np.sum(x**2,axis=1)<1.]\n",
    "#x[:,2] /= 10\n",
    "masses = np.repeat(1/x.shape[0],x.shape[0])\n",
    "v = np.cross(x, np.array([0,0,1])) * 3\n",
    "v += np.random.normal(size=x.shape)*0.1\n",
    "v *= 0.\n",
    "#plt.scatter(x[:,0], x[:,1]); plt.show()"
   ]
  },
  {
   "cell_type": "code",
   "execution_count": 18,
   "metadata": {},
   "outputs": [
    {
     "data": {
      "text/plain": [
       "(array([-0.44515349, -0.56516813,  2.33472878]),\n",
       " array([-0.45022776, -0.57476178,  2.28688456]))"
      ]
     },
     "execution_count": 18,
     "metadata": {},
     "output_type": "execute_result"
    }
   ],
   "source": [
    "#g = np.zeros(3)\n",
    "eps = 0.1\n",
    "root = ConstructTree(x, masses)\n",
    "a = Accel(x, root, thetamax=0.7,eps=0.1)\n",
    "a[0], BruteForceAccel(x,masses,eps)[0]\n",
    "#plt.hist(a[:,1],100); plt.show()\n",
    "#root.children#[2].center\n",
    "#x[np.sum(a**2,axis=1).argmax()]\n",
    "#BruteForceAccel(points, masses)"
   ]
  },
  {
   "cell_type": "code",
   "execution_count": 15,
   "metadata": {},
   "outputs": [
    {
     "name": "stdout",
     "output_type": "stream",
     "text": [
      "0.0\n",
      "0.10000000000000007\n",
      "0.20000000000000015\n",
      "0.3000000000000002\n",
      "0.4000000000000003\n",
      "0.5000000000000003\n",
      "0.6000000000000004\n",
      "0.7000000000000005\n",
      "0.8000000000000006\n",
      "0.9000000000000007\n"
     ]
    }
   ],
   "source": [
    "dt = 0.001\n",
    "eps = 0.1\n",
    "t = 0.\n",
    "tmax = 1.\n",
    "i = 0\n",
    "#plt.ion()\n",
    "#ion()\n",
    "#fig = plt.figure()\n",
    "#ax = fig.add_subplot(111)\n",
    "#plt.axes().set_aspect('equal'); \n",
    "#plt.xlim(-1,1)\n",
    "#plt.ylim(-1,1)\n",
    "KE = []\n",
    "PE = []\n",
    "med = []\n",
    "while t < tmax:\n",
    "    if not i%100: print(t)# ax.clear(); ax.scatter(x[:,0],x[:,1],s=0.3); plt.xlim(-1,1); plt.ylim(-1,1); plt.draw(); plt.pause(0.01)\n",
    "    #plt.savefig(\"%d.png\"%i); plt.plt.clf()\n",
    "    x += v*dt #, v + BruteForceAccel(x, masses, eps=eps)*dt\n",
    "    #root = ConstructTree(x, masses)\n",
    "    v += BruteForceAccel(x, masses, eps=eps)*dt\n",
    "    i += 1\n",
    "    t += dt\n",
    "    KE.append((v**2).sum())\n",
    "    PE.append(BruteForcePotential(x,masses,1.,eps).sum())\n",
    "    med.append(np.percentile(np.sum(x**2,axis=1)**0.5, 50))"
   ]
  },
  {
   "cell_type": "code",
   "execution_count": 17,
   "metadata": {
    "collapsed": true
   },
   "outputs": [],
   "source": [
    "plt.plot(np.array(KE) + np.array(PE))\n",
    "#plt.plot(PE)\n",
    "plt.show()"
   ]
  },
  {
   "cell_type": "code",
   "execution_count": 86,
   "metadata": {
    "collapsed": true
   },
   "outputs": [],
   "source": [
    "plt.plot(med); plt.show()"
   ]
  },
  {
   "cell_type": "code",
   "execution_count": null,
   "metadata": {
    "collapsed": true
   },
   "outputs": [],
   "source": [
    "np.packbits(np.array([True,True,True]))"
   ]
  },
  {
   "cell_type": "code",
   "execution_count": null,
   "metadata": {
    "collapsed": true
   },
   "outputs": [],
   "source": []
  },
  {
   "cell_type": "code",
   "execution_count": null,
   "metadata": {
    "collapsed": true
   },
   "outputs": [],
   "source": [
    "1 >> 0"
   ]
  },
  {
   "cell_type": "code",
   "execution_count": null,
   "metadata": {
    "collapsed": true
   },
   "outputs": [],
   "source": [
    "[1 << i for i in range(2)]"
   ]
  },
  {
   "cell_type": "code",
   "execution_count": null,
   "metadata": {
    "collapsed": true
   },
   "outputs": [],
   "source": []
  }
 ],
 "metadata": {
  "kernelspec": {
   "display_name": "Python 3",
   "language": "python",
   "name": "python3"
  },
  "language_info": {
   "codemirror_mode": {
    "name": "ipython",
    "version": 3
   },
   "file_extension": ".py",
   "mimetype": "text/x-python",
   "name": "python",
   "nbconvert_exporter": "python",
   "pygments_lexer": "ipython3",
   "version": "3.6.1"
  }
 },
 "nbformat": 4,
 "nbformat_minor": 2
}
