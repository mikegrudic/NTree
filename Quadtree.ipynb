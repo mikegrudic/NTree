{
 "cells": [
  {
   "cell_type": "code",
   "execution_count": 1,
   "metadata": {},
   "outputs": [
    {
     "name": "stdout",
     "output_type": "stream",
     "text": [
      "Using matplotlib backend: TkAgg\n",
      "Populating the interactive namespace from numpy and matplotlib\n"
     ]
    }
   ],
   "source": [
    "%pylab\n",
    "%load_ext line_profiler\n",
    "from numba import jit, njit"
   ]
  },
  {
   "cell_type": "code",
   "execution_count": 3,
   "metadata": {
    "collapsed": true
   },
   "outputs": [],
   "source": [
    "class NTree:\n",
    "    \"\"\"Arbitrary dimensionality n-ant tree structure that stores arbitrary data associated with each point.\"\"\"\n",
    "    def __init__(self, center, size, dim=3):\n",
    "        self.COM = None\n",
    "        self.center = center\n",
    "        self.size = size\n",
    "        self.data = None\n",
    "        self.IsLeaf = False\n",
    "        self.children = (1 << dim) * [None,]\n",
    "        self.dim = dim\n",
    "        \n",
    "    def InsertPoint(self, x, data=None):\n",
    "        \"\"\"Inserts a point of position x and mass m into the tree.\"\"\"\n",
    "        if self.COM is None: # no point already lives here, so let's make a leaf node and store the point there\n",
    "            self.COM  = x\n",
    "            if data: self.data = data\n",
    "            self.IsLeaf = True\n",
    "            return\n",
    "        #otherwise we gotta split this up\n",
    "        if self.IsLeaf:\n",
    "            self.SpawnChildWithPoint(self.COM, data)\n",
    "            self.IsLeaf = False    \n",
    "        self.SpawnChildWithPoint(x, data)\n",
    "    \n",
    "    def SpawnChildWithPoint(self, x, data=None):\n",
    "        \"\"\"Spawns a child node for a point at position x and mass m to live in.\"\"\"\n",
    "        signs = (x > self.center)\n",
    "        #sector, signs = Sector(x, self.center)\n",
    "        sector = SignsToSector(signs) # number from 0 to 2**dim - 1 deciding which n-ant \n",
    "        #print(sector is sector2)\n",
    "        if not self.children[sector]:\n",
    "            child_size = self.size/2\n",
    "            child_center =  self.center + child_size*(signs-0.5)\n",
    "            self.children[sector] = NTree(child_center, child_size, dim=self.dim)\n",
    "        self.children[sector].InsertPoint(x, data)\n",
    "        \n",
    "    def GetMoments(self):\n",
    "        \"\"\"Computes the mass and center of mass of a node recursively.\"\"\"\n",
    "        if not self.IsLeaf: #: return self.mass, self.COM\n",
    "            self.data = 0.\n",
    "            self.COM = np.zeros(self.dim)\n",
    "            for c in self.children:\n",
    "                if c is None: continue\n",
    "                mc, xc = c.GetMoments()\n",
    "                self.data += mc\n",
    "                self.COM += mc*xc\n",
    "            self.COM /= self.data\n",
    "        return self.data, self.COM\n",
    "\n",
    "@njit\n",
    "def SignsToSector(signs):\n",
    "    \"\"\"Takes a boolean array and returns the integer given by those binary digits.\"\"\"\n",
    "    sum = 0\n",
    "    for i in range(signs.shape[0]):\n",
    "        #sum += signs[i] * (1 << i)\n",
    "        if signs[i]: sum += 1 << i\n",
    "    return sum\n",
    "\n",
    "@njit \n",
    "def Sector(x, center):\n",
    "    \"\"\"Returns a number from 0 to 2**dim - 1 labeling which n-ant the point lives in\"\"\"\n",
    "    sum = 0\n",
    "    #signs = np.zeros(3, dtype=np.bool)\n",
    "    for i in range(center.shape[0]):\n",
    "        if x[i] > center[i]: \n",
    "            sum += 1 << i\n",
    "            #signs[i] = True\n",
    "    return sum\n",
    "    \n",
    "def ForceWalk(x, g, node, thetamax=0.7, eps=0.0):\n",
    "    dx = node.COM - x\n",
    "    #print(dx)\n",
    "    r = np.sqrt((dx**2).sum())\n",
    "    if r>0:\n",
    "        if node.IsLeaf or node.size/r < thetamax:\n",
    "            g += node.mass * dx / (r**2 + eps**2)**1.5\n",
    "        else:\n",
    "            for c in node.children:\n",
    "                if c: ForceWalk(x, g, c, thetamax, eps)\n",
    "\n",
    "def Accel(points, tree, thetamax=0.7, G=1.0, eps=0.0):\n",
    "    accels = np.zeros_like(points)\n",
    "    for i in range(points.shape[0]):\n",
    "        ForceWalk(points[i], accels[i], tree, thetamax,eps)\n",
    "    return G*accels\n",
    "\n",
    "@njit\n",
    "def BruteForceAccel(x,m,eps=0., G=1.):\n",
    "    accel = zeros_like(x)\n",
    "    for i in range(x.shape[0]):\n",
    "        for j in range(i+1,x.shape[0]):\n",
    "            dx = x[j,0]-x[i,0]\n",
    "            dy = x[j,1]-x[i,1]\n",
    "            dz = x[j,2]-x[i,2]\n",
    "            r = sqrt(dx*dx + dy*dy + dz*dz + eps*eps)\n",
    "            mr3inv = m[i]/(r*r*r)\n",
    "            accel[j,0] -= mr3inv*dx\n",
    "            accel[j,1] -= mr3inv*dy\n",
    "            accel[j,2] -= mr3inv*dz\n",
    "\n",
    "            mr3inv = m[j]/(r*r*r)\n",
    "            accel[i,0] += mr3inv*dx\n",
    "            accel[i,1] += mr3inv*dy\n",
    "            accel[i,2] += mr3inv*dz\n",
    "    return G*accel\n",
    "\n",
    "@jit\n",
    "def BruteForcePotential(x,m,G=1., eps=0.):\n",
    "    potential = np.zeros_like(m)\n",
    "    for i in range(x.shape[0]):\n",
    "        for j in range(i+1,x.shape[0]):\n",
    "            dx = x[i,0]-x[j,0]\n",
    "            dy = x[i,1]-x[j,1]\n",
    "            dz = x[i,2]-x[j,2]\n",
    "            r = np.sqrt(dx*dx + dy*dy + dz*dz + eps*eps)\n",
    "            rinv = 1/r\n",
    "            potential[j] -= m[i]*rinv\n",
    "            potential[i] -= m[j]*rinv\n",
    "    return G*potential\n",
    "\n",
    "def ConstructTree(points, data=None):\n",
    "    mins = np.min(points,axis=0)\n",
    "    maxes = np.max(points,axis=0)\n",
    "    center = (maxes+mins)/2\n",
    "    size = np.max(maxes-mins)\n",
    "    root = NTree(center, size, dim=points.shape[1])\n",
    "    if data:\n",
    "        for i in range(len(points)):\n",
    "            root.InsertPoint(points[i], data[i])#, masses[i])\n",
    "    else:\n",
    "        for i in range(len(points)):\n",
    "            root.InsertPoint(points[i])\n",
    "    #root.GetMoments()\n",
    "    return root\n"
   ]
  },
  {
   "cell_type": "code",
   "execution_count": 4,
   "metadata": {
    "collapsed": true
   },
   "outputs": [],
   "source": [
    "x = 2*(np.random.rand(10**5,3) - 0.5)\n",
    "#x = x[np.sum(x**2,axis=1)<1.]\n",
    "#x[:,2] /= 10\n",
    "masses = np.repeat(1/x.shape[0],x.shape[0])\n",
    "#v = np.cross(x, np.array([0,0,1])) * 3\n",
    "#v += np.random.normal(size=x.shape)*0.1\n",
    "#v *= 0.\n",
    "#plt.scatter(x[:,0], x[:,1]); plt.show()"
   ]
  },
  {
   "cell_type": "code",
   "execution_count": 144,
   "metadata": {
    "collapsed": true
   },
   "outputs": [],
   "source": [
    "%lprun -f TreeNode.InsertPoint  ConstructTree(x, masses)"
   ]
  },
  {
   "cell_type": "code",
   "execution_count": 5,
   "metadata": {},
   "outputs": [
    {
     "name": "stdout",
     "output_type": "stream",
     "text": [
      "CPU times: user 1.84 s, sys: 45.3 ms, total: 1.88 s\n",
      "Wall time: 1.89 s\n"
     ]
    },
    {
     "data": {
      "text/plain": [
       "<__main__.NTree at 0x7f6af005ab70>"
      ]
     },
     "execution_count": 5,
     "metadata": {},
     "output_type": "execute_result"
    }
   ],
   "source": [
    "%time ConstructTree(x)"
   ]
  },
  {
   "cell_type": "code",
   "execution_count": 133,
   "metadata": {},
   "outputs": [
    {
     "name": "stdout",
     "output_type": "stream",
     "text": [
      "23.8 s ± 321 ms per loop (mean ± std. dev. of 7 runs, 1 loop each)\n"
     ]
    }
   ],
   "source": [
    "%timeit ConstructTree(x, masses)"
   ]
  },
  {
   "cell_type": "code",
   "execution_count": 48,
   "metadata": {},
   "outputs": [
    {
     "name": "stdout",
     "output_type": "stream",
     "text": [
      "CPU times: user 25.8 s, sys: 267 ms, total: 26.1 s\n",
      "Wall time: 26 s\n"
     ]
    }
   ],
   "source": [
    "#g = np.zeros(3)\n",
    "%time root = ConstructTree(x, masses)\n",
    "#a = Accel(x, root, thetamax=0.7,eps=0.1)\n",
    "#a[0], BruteForceAccel(x,masses,eps)[0]\n",
    "#plt.hist(a[:,1],100); plt.show()\n",
    "#root.children#[2].center\n",
    "#x[np.sum(a**2,axis=1).argmax()]\n",
    "#BruteForceAccel(points, masses)"
   ]
  },
  {
   "cell_type": "code",
   "execution_count": 15,
   "metadata": {},
   "outputs": [
    {
     "name": "stdout",
     "output_type": "stream",
     "text": [
      "0.0\n",
      "0.10000000000000007\n",
      "0.20000000000000015\n",
      "0.3000000000000002\n",
      "0.4000000000000003\n",
      "0.5000000000000003\n",
      "0.6000000000000004\n",
      "0.7000000000000005\n",
      "0.8000000000000006\n",
      "0.9000000000000007\n"
     ]
    }
   ],
   "source": [
    "dt = 0.001\n",
    "eps = 0.1\n",
    "t = 0.\n",
    "tmax = 1.\n",
    "i = 0\n",
    "#plt.ion()\n",
    "#ion()\n",
    "#fig = plt.figure()\n",
    "#ax = fig.add_subplot(111)\n",
    "#plt.axes().set_aspect('equal'); \n",
    "#plt.xlim(-1,1)\n",
    "#plt.ylim(-1,1)\n",
    "KE = []\n",
    "PE = []\n",
    "med = []\n",
    "while t < tmax:\n",
    "    if not i%100: print(t)# ax.clear(); ax.scatter(x[:,0],x[:,1],s=0.3); plt.xlim(-1,1); plt.ylim(-1,1); plt.draw(); plt.pause(0.01)\n",
    "    #plt.savefig(\"%d.png\"%i); plt.plt.clf()\n",
    "    x += v*dt #, v + BruteForceAccel(x, masses, eps=eps)*dt\n",
    "    #root = ConstructTree(x, masses)\n",
    "    v += BruteForceAccel(x, masses, eps=eps)*dt\n",
    "    i += 1\n",
    "    t += dt\n",
    "    KE.append((v**2).sum())\n",
    "    PE.append(BruteForcePotential(x,masses,1.,eps).sum())\n",
    "    med.append(np.percentile(np.sum(x**2,axis=1)**0.5, 50))"
   ]
  },
  {
   "cell_type": "code",
   "execution_count": 17,
   "metadata": {
    "collapsed": true
   },
   "outputs": [],
   "source": [
    "plt.plot(np.array(KE) + np.array(PE))\n",
    "#plt.plot(PE)\n",
    "plt.show()"
   ]
  },
  {
   "cell_type": "code",
   "execution_count": 86,
   "metadata": {
    "collapsed": true
   },
   "outputs": [],
   "source": [
    "plt.plot(med); plt.show()"
   ]
  },
  {
   "cell_type": "code",
   "execution_count": null,
   "metadata": {
    "collapsed": true
   },
   "outputs": [],
   "source": [
    "np.packbits(np.array([True,True,True]))"
   ]
  },
  {
   "cell_type": "code",
   "execution_count": 43,
   "metadata": {},
   "outputs": [
    {
     "name": "stdout",
     "output_type": "stream",
     "text": [
      "227 ns ± 0.146 ns per loop (mean ± std. dev. of 7 runs, 1000000 loops each)\n"
     ]
    }
   ],
   "source": [
    "signs = np.random.rand(3) > 0.5\n",
    "#%timeit sum(signs[i] * (1 << i) for i in range(3))\n",
    "%timeit SignsToIndex(signs)"
   ]
  },
  {
   "cell_type": "code",
   "execution_count": 136,
   "metadata": {},
   "outputs": [
    {
     "name": "stdout",
     "output_type": "stream",
     "text": [
      "1.4 µs ± 29.5 ns per loop (mean ± std. dev. of 7 runs, 1000000 loops each)\n"
     ]
    }
   ],
   "source": [
    "%timeit center + 0.5*(signs-0.5)"
   ]
  },
  {
   "cell_type": "code",
   "execution_count": 32,
   "metadata": {
    "collapsed": true
   },
   "outputs": [],
   "source": [
    "from numba import uint8, boolean"
   ]
  },
  {
   "cell_type": "code",
   "execution_count": 42,
   "metadata": {
    "collapsed": true
   },
   "outputs": [],
   "source": [
    "@jit\n",
    "def SignsToIndex(signs):\n",
    "    sum = 0\n",
    "    for i in range(signs.shape[0]):\n",
    "        sum += signs[i] * (1 << i)\n",
    "    return sum\n",
    "\n",
    "@jit "
   ]
  },
  {
   "cell_type": "code",
   "execution_count": 151,
   "metadata": {
    "collapsed": true
   },
   "outputs": [],
   "source": [
    "x = np.random.rand(3)*2 - 1\n",
    "center = np.array([0.1,0.1,0.1])\n",
    "\n"
   ]
  },
  {
   "cell_type": "code",
   "execution_count": 157,
   "metadata": {},
   "outputs": [
    {
     "name": "stdout",
     "output_type": "stream",
     "text": [
      "223 ns ± 0.258 ns per loop (mean ± std. dev. of 7 runs, 1000000 loops each)\n"
     ]
    }
   ],
   "source": [
    "signs = (x > center)\n",
    "%timeit SignsToSector(signs) # number from 0 to 2**dim deciding which n-ant "
   ]
  },
  {
   "cell_type": "code",
   "execution_count": null,
   "metadata": {
    "collapsed": true
   },
   "outputs": [],
   "source": []
  },
  {
   "cell_type": "code",
   "execution_count": null,
   "metadata": {
    "collapsed": true
   },
   "outputs": [],
   "source": []
  }
 ],
 "metadata": {
  "kernelspec": {
   "display_name": "Python 3",
   "language": "python",
   "name": "python3"
  },
  "language_info": {
   "codemirror_mode": {
    "name": "ipython",
    "version": 3
   },
   "file_extension": ".py",
   "mimetype": "text/x-python",
   "name": "python",
   "nbconvert_exporter": "python",
   "pygments_lexer": "ipython3",
   "version": "3.6.2"
  }
 },
 "nbformat": 4,
 "nbformat_minor": 2
}
